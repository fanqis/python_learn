{
 "cells": [
  {
   "cell_type": "markdown",
   "metadata": {},
   "source": [
    "Markdown学习：\n",
    "=="
   ]
  },
  {
   "cell_type": "markdown",
   "metadata": {},
   "source": [
    "https://www.bilibili.com/video/av11009616/"
   ]
  },
  {
   "cell_type": "markdown",
   "metadata": {},
   "source": [
    "**1.字体**\n",
    "-------"
   ]
  },
  {
   "cell_type": "markdown",
   "metadata": {},
   "source": [
    "### 1.1  斜体（**/_）    *樊奇*  _fanqi_"
   ]
  },
  {
   "cell_type": "markdown",
   "metadata": {},
   "source": [
    "### 1.2  粗体（******/______）    **樊奇**  __fanqi__"
   ]
  },
  {
   "cell_type": "markdown",
   "metadata": {},
   "source": [
    "### 1.3  删除线(~)    ~~樊奇~~"
   ]
  },
  {
   "cell_type": "markdown",
   "metadata": {},
   "source": [
    "**2.分级标题**\n",
    "---------"
   ]
  },
  {
   "cell_type": "markdown",
   "metadata": {},
   "source": [
    "### 2.1       一种是（**只能有2级标题**）： \n",
    "\n",
    "* 一级标题在文字下面打=====（2个就可以了）；\n",
    "        \n",
    "* 二级标题在文字下面打----（2个就可以了）"
   ]
  },
  {
   "cell_type": "markdown",
   "metadata": {},
   "source": [
    "### 2.2 一种是（可以写6级标题）：\n",
    "+ 在前面写  #  ，几个#就代表几级标题 \n",
    "- #有快捷键，1/2/3/4/5/6分别代表对应个数的#"
   ]
  },
  {
   "cell_type": "markdown",
   "metadata": {},
   "source": [
    "## 3.超链接"
   ]
  },
  {
   "cell_type": "markdown",
   "metadata": {},
   "source": [
    "### 3.1本文视频链接[记笔记神器-jupyter notebook](https://www.bilibili.com/video/av11009616/)"
   ]
  },
  {
   "cell_type": "markdown",
   "metadata": {},
   "source": [
    "### 3.2本文视频链接[记笔记神器-jupyter notebook][1]\n",
    "\n",
    "[1]:https://www.bilibili.com/video/av11009616/"
   ]
  },
  {
   "cell_type": "markdown",
   "metadata": {},
   "source": [
    "## 4.有序列表"
   ]
  },
  {
   "cell_type": "markdown",
   "metadata": {},
   "source": [
    "1. 句子前面加+/-/ * 和空格\n",
    "2. 数字+** . **+空格组成"
   ]
  },
  {
   "cell_type": "markdown",
   "metadata": {},
   "source": [
    "123\\. 要保留前面123这个数字加\\"
   ]
  },
  {
   "cell_type": "markdown",
   "metadata": {},
   "source": [
    "123. 不会保留123，只会有1"
   ]
  },
  {
   "cell_type": "markdown",
   "metadata": {},
   "source": [
    "## 5.引用嵌套"
   ]
  },
  {
   "cell_type": "markdown",
   "metadata": {},
   "source": [
    "> 一级嵌套 \n",
    "\n",
    "使用>来作为嵌套，>号越多，嵌套越深"
   ]
  },
  {
   "cell_type": "markdown",
   "metadata": {},
   "source": [
    " >> 二级嵌套"
   ]
  },
  {
   "cell_type": "markdown",
   "metadata": {},
   "source": [
    "## 6.生成表格"
   ]
  },
  {
   "cell_type": "markdown",
   "metadata": {},
   "source": [
    "|班级|人数|男生|\n",
    "|-|-|-|\n",
    "|一班|20|12|"
   ]
  },
  {
   "cell_type": "markdown",
   "metadata": {},
   "source": []
  }
 ],
 "metadata": {
  "kernelspec": {
   "display_name": "Python 2",
   "language": "python",
   "name": "python2"
  },
  "language_info": {
   "codemirror_mode": {
    "name": "ipython",
    "version": 2
   },
   "file_extension": ".py",
   "mimetype": "text/x-python",
   "name": "python",
   "nbconvert_exporter": "python",
   "pygments_lexer": "ipython2",
   "version": "2.7.13"
  }
 },
 "nbformat": 4,
 "nbformat_minor": 2
}
