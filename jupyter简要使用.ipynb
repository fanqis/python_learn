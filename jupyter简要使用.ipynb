{
 "cells": [
  {
   "cell_type": "markdown",
   "metadata": {},
   "source": [
    "## 要运行python36的jupyter notebook"
   ]
  },
  {
   "cell_type": "markdown",
   "metadata": {},
   "source": [
    "activate py36 -> cd 文件夹路径（存放.py文件的地方） -> jupyter notebook (ctrl + c退出命令提示符)"
   ]
  },
  {
   "cell_type": "markdown",
   "metadata": {},
   "source": [
    "1. **代码单元**     前面有 In []\n",
    "\n",
    "2. **Markdown 单元**     前面没有 In []"
   ]
  },
  {
   "cell_type": "markdown",
   "metadata": {},
   "source": [
    "#### 代码单元  -》Markdown 单元    \n",
    "\n",
    "**m** "
   ]
  },
  {
   "cell_type": "markdown",
   "metadata": {},
   "source": [
    "#### Markdown 单元 -》代码单元     \n",
    "\n",
    "**y**"
   ]
  },
  {
   "cell_type": "markdown",
   "metadata": {},
   "source": [
    "c+v 复制单元\n",
    "\n",
    "x删除单元"
   ]
  },
  {
   "cell_type": "markdown",
   "metadata": {},
   "source": [
    "a上面插入一个单元\n",
    "\n",
    "b下面插入一个单元"
   ]
  },
  {
   "cell_type": "code",
   "execution_count": null,
   "metadata": {
    "collapsed": true
   },
   "outputs": [],
   "source": []
  }
 ],
 "metadata": {
  "kernelspec": {
   "display_name": "Python 2",
   "language": "python",
   "name": "python2"
  },
  "language_info": {
   "codemirror_mode": {
    "name": "ipython",
    "version": 2
   },
   "file_extension": ".py",
   "mimetype": "text/x-python",
   "name": "python",
   "nbconvert_exporter": "python",
   "pygments_lexer": "ipython2",
   "version": "2.7.13"
  }
 },
 "nbformat": 4,
 "nbformat_minor": 2
}
